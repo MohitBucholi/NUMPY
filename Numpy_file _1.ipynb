{
 "cells": [
  {
   "cell_type": "markdown",
   "metadata": {},
   "source": [
    "<h1> Numpy"
   ]
  },
  {
   "cell_type": "markdown",
   "metadata": {},
   "source": [
    "1. Numpy stand for Numerical(Num) Python(py)\n",
    "2. It is written in python, c and c++\n",
    "3. It also has some function for working in domain of linear algebra, fourier transform and matrix. Generally used for working with array's in python\n",
    "4. Numpy is faster than list"
   ]
  },
  {
   "cell_type": "code",
   "execution_count": 2,
   "metadata": {},
   "outputs": [
    {
     "data": {
      "text/plain": [
       "array([4, 5, 6, 7])"
      ]
     },
     "execution_count": 2,
     "metadata": {},
     "output_type": "execute_result"
    }
   ],
   "source": [
    "import numpy as np    # python alias are alternate name for reffering to the same thing. create alias with 'as' keyword.\n",
    "\n",
    "l = [4,5,6,7]\n",
    "# create array with array(\"pass either tuple or list\") function\n",
    "a = np.array(l)   # pass list in array()function \n",
    "a"
   ]
  },
  {
   "cell_type": "markdown",
   "metadata": {},
   "source": [
    " The array onject's in numpy is called ndarray. and type is numpy.ndarray"
   ]
  },
  {
   "cell_type": "code",
   "execution_count": 4,
   "metadata": {},
   "outputs": [
    {
     "data": {
      "text/plain": [
       "numpy.ndarray"
      ]
     },
     "execution_count": 4,
     "metadata": {},
     "output_type": "execute_result"
    }
   ],
   "source": [
    "type(a)"
   ]
  },
  {
   "cell_type": "markdown",
   "metadata": {},
   "source": [
    "#### Dimensions in array\n",
    "\n",
    "1. #### Zero- dimension:\n",
    "                it contain only one element like (np.array(42))\n",
    "2. #### One- dimension:  \n",
    "                it contain Zero-dimesion element like (np.array([42,56,32]))\n",
    "3. #### Two- dimension:  \n",
    "                it contain one- dimension element like (np.array([[ 42,56,32],[23,56,82]]))\n",
    "4. #### Three- dimension:\n",
    "                it contain two- dimension element like (np.array([[[ 42,56,32],[23,56,82]],[[1,2,3],[4,5,6]]]))\n",
    "______________________________"
   ]
  },
  {
   "cell_type": "markdown",
   "metadata": {},
   "source": [
    "##### 'ndim( )' function return as integer that tells us how many dimension the array have\n",
    "#####  You can also define the number of dimension's by using the 'ndmin' argument"
   ]
  },
  {
   "cell_type": "code",
   "execution_count": 7,
   "metadata": {},
   "outputs": [
    {
     "name": "stdout",
     "output_type": "stream",
     "text": [
      "[[ 4  5  6]\n",
      " [ 6  8  9]\n",
      " [12  7  4]]\n"
     ]
    },
    {
     "data": {
      "text/plain": [
       "2"
      ]
     },
     "execution_count": 7,
     "metadata": {},
     "output_type": "execute_result"
    }
   ],
   "source": [
    "a = np.array([[4,5,6],[6,8,9],[12,7,4]])                #create a 2 dimension array\n",
    "print(a)\n",
    "a.ndim     "
   ]
  },
  {
   "cell_type": "code",
   "execution_count": 9,
   "metadata": {},
   "outputs": [
    {
     "data": {
      "text/plain": [
       "5"
      ]
     },
     "execution_count": 9,
     "metadata": {},
     "output_type": "execute_result"
    }
   ],
   "source": [
    "a = np.array([1,2,3,4],ndmin=5)       # using 'ndmin' we make array 'a' 5 dimension\n",
    "a.ndim                     "
   ]
  },
  {
   "cell_type": "markdown",
   "metadata": {},
   "source": [
    "#### Dtype:\n",
    "1. return the data type of array\n",
    "2. we can also creat an array with define data type"
   ]
  },
  {
   "cell_type": "code",
   "execution_count": 10,
   "metadata": {},
   "outputs": [
    {
     "data": {
      "text/plain": [
       "dtype('int32')"
      ]
     },
     "execution_count": 10,
     "metadata": {},
     "output_type": "execute_result"
    }
   ],
   "source": [
    "a = np.array([[4,5,6],[6,8,9],[12,7,4]]) \n",
    "a.dtype"
   ]
  },
  {
   "cell_type": "code",
   "execution_count": 11,
   "metadata": {},
   "outputs": [
    {
     "data": {
      "text/plain": [
       "dtype('int64')"
      ]
     },
     "execution_count": 11,
     "metadata": {},
     "output_type": "execute_result"
    }
   ],
   "source": [
    "a = np.array([[4,5,6],[6,8,9],[12,7,4]],dtype='int64')\n",
    "a.dtype"
   ]
  },
  {
   "cell_type": "markdown",
   "metadata": {},
   "source": [
    "#### Acces array element's\n",
    "Access elements with the help of index in square braket[] as like as list,string in python. "
   ]
  },
  {
   "cell_type": "code",
   "execution_count": 14,
   "metadata": {},
   "outputs": [
    {
     "name": "stdout",
     "output_type": "stream",
     "text": [
      "1\n",
      "[2 3]\n"
     ]
    }
   ],
   "source": [
    "arr = np.array([1,2,3,4])\n",
    "print(arr[0])\n",
    "print(arr[1:3])"
   ]
  },
  {
   "cell_type": "code",
   "execution_count": 20,
   "metadata": {},
   "outputs": [
    {
     "name": "stdout",
     "output_type": "stream",
     "text": [
      "[[ 4  5  6]\n",
      " [ 6  8  9]\n",
      " [12  7  4]]\n",
      "9\n",
      "[12  7  4]\n"
     ]
    },
    {
     "data": {
      "text/plain": [
       "array([5, 6])"
      ]
     },
     "execution_count": 20,
     "metadata": {},
     "output_type": "execute_result"
    }
   ],
   "source": [
    "# how to access in two dimension\n",
    "a = np.array([[4,5,6],[6,8,9],[12,7,4]])\n",
    "print(a)\n",
    "print(a[1,2])                        # a['index of row', 'column']\n",
    "print(a[2])                          # access complete row\n",
    "a[0,1:]                               # access a part of row"
   ]
  },
  {
   "cell_type": "markdown",
   "metadata": {},
   "source": [
    "#### Numpy array copy and view\n",
    "when we change in copy no change in orignal but if we change in view also change orignal"
   ]
  },
  {
   "cell_type": "code",
   "execution_count": 38,
   "metadata": {},
   "outputs": [],
   "source": [
    "a =  np.array([1,2,3,4])\n",
    "b =  np.array([5,6,7,8])\n",
    "x = a.copy()                 # x is the copy of a\n",
    "y = b.view()                 # y is the view of b"
   ]
  },
  {
   "cell_type": "code",
   "execution_count": 40,
   "metadata": {},
   "outputs": [
    {
     "name": "stdout",
     "output_type": "stream",
     "text": [
      "[1 2 3 4]\n",
      "[5 6 7 8]\n",
      "None\n",
      "[5 6 7 8]\n"
     ]
    }
   ],
   "source": [
    "print(x)\n",
    "print(y)\n",
    "# base() function is used to check the array it copy or view\n",
    "# if copy the it show none other wise refelct the orignal array\n",
    "print(x.base)\n",
    "print(y.base)"
   ]
  },
  {
   "cell_type": "markdown",
   "metadata": {},
   "source": [
    "#### Shape:"
   ]
  },
  {
   "cell_type": "code",
   "execution_count": 41,
   "metadata": {},
   "outputs": [
    {
     "data": {
      "text/plain": [
       "(2, 3)"
      ]
     },
     "execution_count": 41,
     "metadata": {},
     "output_type": "execute_result"
    }
   ],
   "source": [
    "arr =  np.array([[1,2,3],[4,5,6]])\n",
    "np.shape(arr)\n",
    "# return a tuple (2,3) which means array has 2 dimension and 3 elements in each."
   ]
  },
  {
   "cell_type": "code",
   "execution_count": 43,
   "metadata": {},
   "outputs": [
    {
     "data": {
      "text/plain": [
       "(1, 1, 1, 1, 4)"
      ]
     },
     "execution_count": 43,
     "metadata": {},
     "output_type": "execute_result"
    }
   ],
   "source": [
    "arr =  np.array([1,2,3,4], ndmin=5)\n",
    "np.shape(arr)\n",
    "# return a tuple (1,1,1,1,4) which means array has 5 dimension and In 1 to 4 dimension has 1 elements in each. and 4 element in last dimension(5th)"
   ]
  },
  {
   "cell_type": "markdown",
   "metadata": {},
   "source": [
    "#### Reshape:\n",
    "we can change the number of elements in each dimension or add or remove dimension."
   ]
  },
  {
   "cell_type": "code",
   "execution_count": 67,
   "metadata": {},
   "outputs": [
    {
     "data": {
      "text/plain": [
       "array([[1, 2],\n",
       "       [3, 7],\n",
       "       [4, 5],\n",
       "       [6, 8]])"
      ]
     },
     "execution_count": 67,
     "metadata": {},
     "output_type": "execute_result"
    }
   ],
   "source": [
    "arr1 =  np.array([[1,2,3,7],[4,5,6,8]])\n",
    "# re-shape arr1\n",
    "arr1.reshape(4,2)"
   ]
  },
  {
   "cell_type": "code",
   "execution_count": 68,
   "metadata": {},
   "outputs": [
    {
     "name": "stdout",
     "output_type": "stream",
     "text": [
      "(2, 4)\n"
     ]
    },
    {
     "data": {
      "text/plain": [
       "(4, 2)"
      ]
     },
     "execution_count": 68,
     "metadata": {},
     "output_type": "execute_result"
    }
   ],
   "source": [
    "print(np.shape(arr1))\n",
    "# 'arr1' not change because 'rehape make a copy'\n",
    "arr1 = arr1.reshape(4,2)\n",
    "np.shape(arr1)"
   ]
  },
  {
   "cell_type": "code",
   "execution_count": 69,
   "metadata": {},
   "outputs": [
    {
     "data": {
      "text/plain": [
       "array([1, 2, 3, 7, 4, 5, 6, 8])"
      ]
     },
     "execution_count": 69,
     "metadata": {},
     "output_type": "execute_result"
    }
   ],
   "source": [
    "# np.ravel(arr1) \n",
    "#     or\n",
    "arr1.reshape(-1)\n",
    "# both change the array inot 1 - dimension"
   ]
  },
  {
   "cell_type": "markdown",
   "metadata": {},
   "source": [
    "#### Iterating:\n",
    "mean's going through element one by one"
   ]
  },
  {
   "cell_type": "code",
   "execution_count": 71,
   "metadata": {},
   "outputs": [
    {
     "name": "stdout",
     "output_type": "stream",
     "text": [
      "1\n",
      "2\n",
      "3\n",
      "4\n",
      "5\n",
      "6\n",
      "7\n",
      "8\n"
     ]
    }
   ],
   "source": [
    "arr =np.array([[1,2,3,4],[5,6,7,8]])\n",
    "for i in arr:\n",
    "    for j in i:\n",
    "        print(j)\n",
    "# it is difficult to when array is multi dimensional"
   ]
  },
  {
   "cell_type": "code",
   "execution_count": 72,
   "metadata": {},
   "outputs": [
    {
     "name": "stdout",
     "output_type": "stream",
     "text": [
      "1\n",
      "2\n",
      "3\n",
      "4\n",
      "5\n",
      "6\n",
      "7\n",
      "8\n"
     ]
    }
   ],
   "source": [
    "for i in np.nditer(arr):\n",
    "    print(i)"
   ]
  },
  {
   "cell_type": "code",
   "execution_count": 73,
   "metadata": {},
   "outputs": [
    {
     "name": "stdout",
     "output_type": "stream",
     "text": [
      "(0, 0) 1\n",
      "(0, 1) 2\n",
      "(0, 2) 3\n",
      "(0, 3) 4\n",
      "(1, 0) 5\n",
      "(1, 1) 6\n",
      "(1, 2) 7\n",
      "(1, 3) 8\n"
     ]
    }
   ],
   "source": [
    "for i, j in np.ndenumerate(arr):\n",
    "    print(i,j) \n",
    "\n",
    "# i: repersent index and j repersent element "
   ]
  },
  {
   "cell_type": "markdown",
   "metadata": {},
   "source": [
    "#### Numpy Splitting Array:"
   ]
  },
  {
   "cell_type": "code",
   "execution_count": 74,
   "metadata": {},
   "outputs": [
    {
     "data": {
      "text/plain": [
       "[array([1, 2, 3]), array([4, 5, 6]), array([7, 8])]"
      ]
     },
     "execution_count": 74,
     "metadata": {},
     "output_type": "execute_result"
    }
   ],
   "source": [
    "arr =np.array([1,2,3,4,5,6,7,8])\n",
    "np.array_split(arr,3)   # split the arry in three arrys"
   ]
  },
  {
   "cell_type": "markdown",
   "metadata": {},
   "source": [
    "#### Searching in array"
   ]
  },
  {
   "cell_type": "code",
   "execution_count": 77,
   "metadata": {},
   "outputs": [
    {
     "name": "stdout",
     "output_type": "stream",
     "text": [
      "(array([ 0,  3,  5,  6,  8, 12], dtype=int64),)\n"
     ]
    }
   ],
   "source": [
    "a = np.array([2,3,9,6,5,4,2,1,12,13,15,19,56])\n",
    "# search all elemnts which is divide by 2\n",
    "print(np.where(a%2==0))\n",
    "# it return index of the element which fill the condition"
   ]
  },
  {
   "cell_type": "code",
   "execution_count": 81,
   "metadata": {},
   "outputs": [
    {
     "name": "stdout",
     "output_type": "stream",
     "text": [
      "12\n",
      "[0 0 8]\n"
     ]
    }
   ],
   "source": [
    "a = np.array([2,3,9,6,5,4,2,1,12,13,15,19,56])\n",
    "x = np.searchsorted(a,56)            # search single element \n",
    "y = np.searchsorted(a,[1,2,3])        # search multiple elements by passing a list\n",
    "print(x)          \n",
    "print(y)"
   ]
  },
  {
   "cell_type": "markdown",
   "metadata": {},
   "source": [
    "#### Numpy filter array:\n",
    "Getting some elements out of an array and creating a new array out of them"
   ]
  },
  {
   "cell_type": "code",
   "execution_count": 84,
   "metadata": {},
   "outputs": [
    {
     "data": {
      "text/plain": [
       "array([42, 44])"
      ]
     },
     "execution_count": 84,
     "metadata": {},
     "output_type": "execute_result"
    }
   ],
   "source": [
    "arr = np.array([41,42,43,44])\n",
    "x =[False,True,False,True]\n",
    "new_arr =arr[x]\n",
    "new_arr"
   ]
  },
  {
   "cell_type": "code",
   "execution_count": 86,
   "metadata": {},
   "outputs": [
    {
     "name": "stdout",
     "output_type": "stream",
     "text": [
      "[False, True, False, True]\n"
     ]
    },
    {
     "data": {
      "text/plain": [
       "array([42, 44])"
      ]
     },
     "execution_count": 86,
     "metadata": {},
     "output_type": "execute_result"
    }
   ],
   "source": [
    "arr = np.array([41,42,43,44])\n",
    "# creat an empty list\n",
    "x = []\n",
    "for i in arr:\n",
    "    if i%2 ==0:\n",
    "        x.append(True)\n",
    "    else:\n",
    "        x.append(False)\n",
    "print(x)\n",
    "new_arr = arr[x]\n",
    "new_arr"
   ]
  },
  {
   "cell_type": "markdown",
   "metadata": {},
   "source": [
    "Creating filter directly from an array"
   ]
  },
  {
   "cell_type": "code",
   "execution_count": 87,
   "metadata": {},
   "outputs": [
    {
     "data": {
      "text/plain": [
       "array([42, 44])"
      ]
     },
     "execution_count": 87,
     "metadata": {},
     "output_type": "execute_result"
    }
   ],
   "source": [
    "arr = np.array([41,42,43,44])\n",
    "filter_arr = arr%2 ==0\n",
    "new_arr = arr[filter_arr]\n",
    "new_arr"
   ]
  },
  {
   "cell_type": "markdown",
   "metadata": {},
   "source": [
    "<h1>Thank you"
   ]
  }
 ],
 "metadata": {
  "interpreter": {
   "hash": "5c8a7a553ce91d77c6733e151ce4889e0ba9b48b7babcd392ee923e8343d96a9"
  },
  "kernelspec": {
   "display_name": "Python 3.9.5 64-bit",
   "language": "python",
   "name": "python3"
  },
  "language_info": {
   "codemirror_mode": {
    "name": "ipython",
    "version": 3
   },
   "file_extension": ".py",
   "mimetype": "text/x-python",
   "name": "python",
   "nbconvert_exporter": "python",
   "pygments_lexer": "ipython3",
   "version": "3.9.5"
  },
  "orig_nbformat": 4
 },
 "nbformat": 4,
 "nbformat_minor": 2
}
